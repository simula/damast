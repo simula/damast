{
 "cells": [
  {
   "attachments": {},
   "cell_type": "markdown",
   "metadata": {},
   "source": [
    "# Usage\n",
    "We start by exploring the data-processing pipeline part of `DAMAST`.\n",
    "We consider a manufactured dataset of Automatic Identification System (AIS) messages.\n",
    "The data is generated for 150 boats, where the minimal length of a trajectory is 30 messages, and the maximal length is 1000"
   ]
  },
  {
   "cell_type": "code",
   "execution_count": 10,
   "metadata": {},
   "outputs": [],
   "source": [
    "import damast.domains.maritime.ais.data_generator as generator\n",
    "\n",
    "data = generator.AISTestData(number_of_trajectories=1000, min_length=25, max_length=300)"
   ]
  },
  {
   "attachments": {},
   "cell_type": "markdown",
   "metadata": {},
   "source": [
    "The data is stored in a [vaex.DataFrame](https://vaex.io/), and we can inspect the first and last 5 messages in the dataset."
   ]
  },
  {
   "cell_type": "code",
   "execution_count": 11,
   "metadata": {},
   "outputs": [
    {
     "name": "stdout",
     "output_type": "stream",
     "text": [
      "#        mmsi       lon                  lat                  date_time_utc        sog                  cog                  true_heading         nav_status    rot    message_nr    source\n",
      "0        621532812  169.01944156308522   -50.731451872711695  1985-06-03 11:13:00  4.1499236136697135   -2.354470944458527   -2.2876499646786725  1             0.0    2             g\n",
      "1        199844590  -83.18571761617619   -62.45988284001118   2013-05-20 09:12:49  -8.204280701719151   -4.2991047127428805  -4.254451021920967   1             0.0    2             g\n",
      "2        548223900  108.05711108014981   2.064646638815308    1994-09-08 15:24:10  7.561444636735771    -2.5578428137523153  -2.5519120877859653  1             0.0    2             g\n",
      "3        352947096  21.591849741843838   -52.45075452078838   1988-10-04 07:25:39  -3.1909910434431     -4.430585703265792   -4.420046661627201   1             0.0    2             s\n",
      "4        746644671  -78.35262475651618   -5.019945790377366   1976-10-09 22:53:57  -2.0462255379779144  -1.7771619526714177  -1.7629992345874768  0             0.0    2             s\n",
      "...      ...        ...                  ...                  ...                  ...                  ...                  ...                  ...           ...    ...           ...\n",
      "163,118  703316585  52.920676093583666   -32.69140052925271   1977-01-14 08:27:29  15.966405358002662   -1.6566178824626265  -1.6001647652265922  7             0.0    2             s\n",
      "163,119  653503585  -59.332951349336604  -56.418282108034816  1981-05-07 21:12:21  -5.550122225120416   -2.9936625576300973  -2.9414008736073463  0             0.0    2             s\n",
      "163,120  643338866  -86.76183203337234   84.8940767597243     2010-10-16 18:03:59  -6.441508429864668   -2.652065451505988   -2.5698494718445795  7             0.0    2             g\n",
      "163,121  820442896  -178.3487724236492   3.3121881101189974   2017-01-22 23:45:12  13.295777934168862   -0.6360230210901815  -0.5530537927892283  1             0.0    2             s\n",
      "163,122  689991105  174.14674950636478   26.264394802156914   2006-08-07 11:56:36  12.127693249137636   0.3545852414575793   0.44433304601587537  7             0.0    2             s\n"
     ]
    }
   ],
   "source": [
    "print(data.dataframe)"
   ]
  },
  {
   "attachments": {},
   "cell_type": "markdown",
   "metadata": {},
   "source": [
    "The dataset consists of 11 columns, which we will go through in detail.\n",
    "\n",
    "## Data-specification\n",
    "The Maritime Mobile Service Identity (MMSI) used to identify a ship. It *should* be a 9 digit number whose first integer should be between 2 and 7\n",
    "The data we have generated should consist some invalid numbers. Let us inspect these."
   ]
  },
  {
   "cell_type": "code",
   "execution_count": 12,
   "metadata": {},
   "outputs": [
    {
     "data": {
      "text/html": [
       "<table>\n",
       "<thead>\n",
       "<tr><th>#                                 </th><th>mmsi     </th><th>lon                </th><th>lat                </th><th>date_time_utc      </th><th>sog                 </th><th>cog                </th><th>true_heading       </th><th>nav_status  </th><th>rot  </th><th>message_nr  </th><th>source  </th></tr>\n",
       "</thead>\n",
       "<tbody>\n",
       "<tr><td><i style='opacity: 0.6'>0</i>     </td><td>199844590</td><td>-83.18571761617619 </td><td>-62.45988284001118 </td><td>2013-05-20 09:12:49</td><td>-8.204280701719151  </td><td>-4.2991047127428805</td><td>-4.254451021920967 </td><td>1           </td><td>0.0  </td><td>2           </td><td>g       </td></tr>\n",
       "<tr><td><i style='opacity: 0.6'>1</i>     </td><td>837189107</td><td>-17.057999085781166</td><td>73.17942504645124  </td><td>1999-02-14 04:19:40</td><td>4.161191531695675   </td><td>-2.1446024143296953</td><td>-2.141166182643515 </td><td>1           </td><td>0.0  </td><td>2           </td><td>s       </td></tr>\n",
       "<tr><td><i style='opacity: 0.6'>2</i>     </td><td>808438589</td><td>6.541356033529531  </td><td>-50.962478312716335</td><td>2003-11-10 14:21:49</td><td>-0.21343675077172186</td><td>-1.3832250016226015</td><td>-1.2880294451172154</td><td>1           </td><td>0.0  </td><td>2           </td><td>s       </td></tr>\n",
       "<tr><td><i style='opacity: 0.6'>3</i>     </td><td>801576021</td><td>-64.04333586597684 </td><td>74.6913387398394   </td><td>2008-01-10 14:20:27</td><td>-5.7904595085769675 </td><td>3.15275458554951   </td><td>3.23937413376734   </td><td>1           </td><td>0.0  </td><td>2           </td><td>g       </td></tr>\n",
       "<tr><td><i style='opacity: 0.6'>4</i>     </td><td>820183028</td><td>47.79091861635569  </td><td>70.66473159505955  </td><td>2005-04-28 02:14:46</td><td>-9.831573137181007  </td><td>5.7983732973460285 </td><td>5.8321671902263255 </td><td>0           </td><td>0.0  </td><td>2           </td><td>s       </td></tr>\n",
       "<tr><td>...                               </td><td>...      </td><td>...                </td><td>...                </td><td>...                </td><td>...                 </td><td>...                </td><td>...                </td><td>...         </td><td>...  </td><td>...         </td><td>...     </td></tr>\n",
       "<tr><td><i style='opacity: 0.6'>12,893</i></td><td>832643648</td><td>11.99445634184816  </td><td>19.426419931381997 </td><td>2004-10-04 01:05:41</td><td>11.403018588983691  </td><td>4.286657792814315  </td><td>4.373453929778491  </td><td>1           </td><td>0.0  </td><td>2           </td><td>g       </td></tr>\n",
       "<tr><td><i style='opacity: 0.6'>12,894</i></td><td>832643648</td><td>12.057301018030678 </td><td>19.37045107258576  </td><td>2004-10-04 00:36:25</td><td>9.150906448560725   </td><td>4.137031361195816  </td><td>4.2285641150594415 </td><td>1           </td><td>0.0  </td><td>2           </td><td>g       </td></tr>\n",
       "<tr><td><i style='opacity: 0.6'>12,895</i></td><td>192628228</td><td>79.91846583193717  </td><td>32.82099865898587  </td><td>1980-01-10 10:30:57</td><td>-16.879659916693292 </td><td>1.6403416676838498 </td><td>1.7146719250402822 </td><td>7           </td><td>0.0  </td><td>2           </td><td>s       </td></tr>\n",
       "<tr><td><i style='opacity: 0.6'>12,896</i></td><td>194539051</td><td>140.18493668457407 </td><td>-55.06869714944428 </td><td>1975-09-29 23:05:12</td><td>-0.4189652880784167 </td><td>0.9340582884391302 </td><td>1.0261002223031315 </td><td>0           </td><td>0.0  </td><td>2           </td><td>s       </td></tr>\n",
       "<tr><td><i style='opacity: 0.6'>12,897</i></td><td>820442896</td><td>-178.3487724236492 </td><td>3.3121881101189974 </td><td>2017-01-22 23:45:12</td><td>13.295777934168862  </td><td>-0.6360230210901815</td><td>-0.5530537927892283</td><td>1           </td><td>0.0  </td><td>2           </td><td>s       </td></tr>\n",
       "</tbody>\n",
       "</table>"
      ],
      "text/plain": [
       "#       mmsi       lon                  lat                  date_time_utc        sog                   cog                  true_heading         nav_status    rot    message_nr    source\n",
       "0       199844590  -83.18571761617619   -62.45988284001118   2013-05-20 09:12:49  -8.204280701719151    -4.2991047127428805  -4.254451021920967   1             0.0    2             g\n",
       "1       837189107  -17.057999085781166  73.17942504645124    1999-02-14 04:19:40  4.161191531695675     -2.1446024143296953  -2.141166182643515   1             0.0    2             s\n",
       "2       808438589  6.541356033529531    -50.962478312716335  2003-11-10 14:21:49  -0.21343675077172186  -1.3832250016226015  -1.2880294451172154  1             0.0    2             s\n",
       "3       801576021  -64.04333586597684   74.6913387398394     2008-01-10 14:20:27  -5.7904595085769675   3.15275458554951     3.23937413376734     1             0.0    2             g\n",
       "4       820183028  47.79091861635569    70.66473159505955    2005-04-28 02:14:46  -9.831573137181007    5.7983732973460285   5.8321671902263255   0             0.0    2             s\n",
       "...     ...        ...                  ...                  ...                  ...                   ...                  ...                  ...           ...    ...           ...\n",
       "12,893  832643648  11.99445634184816    19.426419931381997   2004-10-04 01:05:41  11.403018588983691    4.286657792814315    4.373453929778491    1             0.0    2             g\n",
       "12,894  832643648  12.057301018030678   19.37045107258576    2004-10-04 00:36:25  9.150906448560725     4.137031361195816    4.2285641150594415   1             0.0    2             g\n",
       "12,895  192628228  79.91846583193717    32.82099865898587    1980-01-10 10:30:57  -16.879659916693292   1.6403416676838498   1.7146719250402822   7             0.0    2             s\n",
       "12,896  194539051  140.18493668457407   -55.06869714944428   1975-09-29 23:05:12  -0.4189652880784167   0.9340582884391302   1.0261002223031315   0             0.0    2             s\n",
       "12,897  820442896  -178.3487724236492   3.3121881101189974   2017-01-22 23:45:12  13.295777934168862    -0.6360230210901815  -0.5530537927892283  1             0.0    2             s"
      ]
     },
     "execution_count": 12,
     "metadata": {},
     "output_type": "execute_result"
    }
   ],
   "source": [
    "from damast.domains.maritime.data_specification import MMSI\n",
    "df = data.dataframe\n",
    "invalid_mmsis = df[(MMSI.min_value>df[\"mmsi\"]) | (df[\"mmsi\"]>MMSI.max_value)]\n",
    "invalid_mmsis"
   ]
  },
  {
   "attachments": {},
   "cell_type": "markdown",
   "metadata": {},
   "source": [
    "Before sending this data to a machine learning algorithm, one would have to filter out invalid data.\n",
    "We can do this by creating a `damast.core.DataSpecification` describing what valid output we would like in our data-frame."
   ]
  },
  {
   "cell_type": "code",
   "execution_count": 13,
   "metadata": {},
   "outputs": [],
   "source": [
    "from damast.core import DataSpecification, MinMax\n",
    "mmsi_spec = DataSpecification(name=\"mmsi\", description=\"Maritime Mobile Service Identity\", representation_type=int,\n",
    "                              value_range=MinMax(MMSI.min_value, MMSI.max_value))"
   ]
  },
  {
   "attachments": {},
   "cell_type": "markdown",
   "metadata": {},
   "source": [
    "We have here described what data this column is supposed to describe, how the data is represented in Python, and its minimum and maximum range.\n",
    "Next, we create a `damast.core.MetaData` object that we can apply to the dataframe."
   ]
  },
  {
   "cell_type": "code",
   "execution_count": 14,
   "metadata": {},
   "outputs": [
    {
     "name": "stderr",
     "output_type": "stream",
     "text": [
      "/home/dokken/Documents/src/TSAR/damast/src/damast/core/metadata.py:568: UserWarning: Replacing values in mmsi that are out of range.\n",
      "  warnings.warn(\n"
     ]
    }
   ],
   "source": [
    "from damast.core import MetaData,ValidationMode\n",
    "metadata = MetaData([mmsi_spec])\n",
    "metadata.apply(df, ValidationMode.UPDATE_DATA)"
   ]
  },
  {
   "attachments": {},
   "cell_type": "markdown",
   "metadata": {},
   "source": [
    "Of course, we do not want to do this process manually per row. Therefore, we can create a `DataSpecification` per row, and let the `damast.core.AnnotatedDataFrame` handle the validation of the data. We can choose between three ways of handling the input data with metadata, we can either use:\n",
    "- `ValidationMode.READONLY`: Reads in the data, checks it against the meta-data and throws and error if the data does not adhere to the data-specification.\n",
    "- `ValidationMode.UPDATE_METADATA`: Update the metadata based on the input in the annotated data-frame. This might change the representation type, column name and valid rages of the data.\n",
    "- `ValidationMode.UPDATE_DATA`: Update data so that it adheres to the meta-data."
   ]
  },
  {
   "cell_type": "code",
   "execution_count": 21,
   "metadata": {},
   "outputs": [
    {
     "name": "stderr",
     "output_type": "stream",
     "text": [
      "/home/dokken/Documents/src/TSAR/damast/src/damast/core/metadata.py:568: UserWarning: Replacing values in mmsi that are out of range.\n",
      "  warnings.warn(\n"
     ]
    },
    {
     "data": {
      "text/html": [
       "<table>\n",
       "<thead>\n",
       "<tr><th>#                                  </th><th>mmsi     </th><th>lon                </th><th>lat                </th><th>date_time_utc      </th><th>sog                </th><th>cog                </th><th>true_heading       </th><th>nav_status  </th><th>rot  </th><th>message_nr  </th><th>source  </th></tr>\n",
       "</thead>\n",
       "<tbody>\n",
       "<tr><td><i style='opacity: 0.6'>0</i>      </td><td>314098953</td><td>95.48376234338699  </td><td>-13.183112816482993</td><td>1985-06-30 05:54:09</td><td>2.2456943765993764 </td><td>-2.4784838425669555</td><td>-2.4144838666540136</td><td>0           </td><td>0.0  </td><td>2           </td><td>g       </td></tr>\n",
       "<tr><td><i style='opacity: 0.6'>1</i>      </td><td>652693917</td><td>163.36414039335648 </td><td>-22.71019798308159 </td><td>2009-11-30 19:55:04</td><td>-17.54548950112173 </td><td>-1.673696483450787 </td><td>-1.6133598294089926</td><td>7           </td><td>0.0  </td><td>2           </td><td>g       </td></tr>\n",
       "<tr><td><i style='opacity: 0.6'>2</i>      </td><td>302955746</td><td>-165.42009688588345</td><td>49.66171311820449  </td><td>1993-12-12 13:19:08</td><td>16.218648300391166 </td><td>-0.7903644947335857</td><td>-0.7383507416449882</td><td>0           </td><td>0.0  </td><td>2           </td><td>g       </td></tr>\n",
       "<tr><td><i style='opacity: 0.6'>3</i>      </td><td>450038448</td><td>69.44124964216434  </td><td>-40.735481407406844</td><td>1990-12-25 08:13:47</td><td>-2.681262299291747 </td><td>1.8424407120661597 </td><td>1.8746845180943952 </td><td>7           </td><td>0.0  </td><td>2           </td><td>s       </td></tr>\n",
       "<tr><td><i style='opacity: 0.6'>4</i>      </td><td>309601479</td><td>-20.000057028329937</td><td>86.07870394453047  </td><td>1970-04-16 14:24:40</td><td>2.7672072779456798 </td><td>1.3100704134646464 </td><td>1.339808315797292  </td><td>1           </td><td>0.0  </td><td>2           </td><td>s       </td></tr>\n",
       "<tr><td>...                                </td><td>...      </td><td>...                </td><td>...                </td><td>...                </td><td>...                </td><td>...                </td><td>...                </td><td>...         </td><td>...  </td><td>...         </td><td>...     </td></tr>\n",
       "<tr><td><i style='opacity: 0.6'>168,133</i></td><td>725252480</td><td>-112.85003131101635</td><td>-10.964689355797598</td><td>1970-03-05 00:47:35</td><td>-9.089431977158117 </td><td>-0.8831700683681305</td><td>-0.7931477772601211</td><td>0           </td><td>0.0  </td><td>2           </td><td>s       </td></tr>\n",
       "<tr><td><i style='opacity: 0.6'>168,134</i></td><td>422842121</td><td>4.902779474933569  </td><td>60.5131208024045   </td><td>1976-10-11 02:20:05</td><td>2.1560387048143808 </td><td>-1.1568993975767228</td><td>-1.0783496253500509</td><td>0           </td><td>0.0  </td><td>2           </td><td>g       </td></tr>\n",
       "<tr><td><i style='opacity: 0.6'>168,135</i></td><td>498463225</td><td>-103.44501767274288</td><td>-83.69724238201772 </td><td>1987-05-09 08:31:07</td><td>1.561557035793344  </td><td>-1.969834312744223 </td><td>-1.9259732350145522</td><td>1           </td><td>0.0  </td><td>2           </td><td>s       </td></tr>\n",
       "<tr><td><i style='opacity: 0.6'>168,136</i></td><td>755237644</td><td>-78.37346861779069 </td><td>-56.77304595750046 </td><td>1988-05-12 15:02:08</td><td>1.6864113149311981 </td><td>-2.4635335986334157</td><td>-2.375469776943925 </td><td>0           </td><td>0.0  </td><td>2           </td><td>g       </td></tr>\n",
       "<tr><td><i style='opacity: 0.6'>168,137</i></td><td>525183613</td><td>-84.3345014920588  </td><td>-2.8482988156030884</td><td>1982-07-22 08:47:07</td><td>-20.493447365778845</td><td>-2.6780738167831037</td><td>-2.6568245054681916</td><td>7           </td><td>0.0  </td><td>2           </td><td>g       </td></tr>\n",
       "</tbody>\n",
       "</table>"
      ],
      "text/plain": [
       "#        mmsi       lon                  lat                  date_time_utc        sog                  cog                  true_heading         nav_status    rot    message_nr    source\n",
       "0        314098953  95.48376234338699    -13.183112816482993  1985-06-30 05:54:09  2.2456943765993764   -2.4784838425669555  -2.4144838666540136  0             0.0    2             g\n",
       "1        652693917  163.36414039335648   -22.71019798308159   2009-11-30 19:55:04  -17.54548950112173   -1.673696483450787   -1.6133598294089926  7             0.0    2             g\n",
       "2        302955746  -165.42009688588345  49.66171311820449    1993-12-12 13:19:08  16.218648300391166   -0.7903644947335857  -0.7383507416449882  0             0.0    2             g\n",
       "3        450038448  69.44124964216434    -40.735481407406844  1990-12-25 08:13:47  -2.681262299291747   1.8424407120661597   1.8746845180943952   7             0.0    2             s\n",
       "4        309601479  -20.000057028329937  86.07870394453047    1970-04-16 14:24:40  2.7672072779456798   1.3100704134646464   1.339808315797292    1             0.0    2             s\n",
       "...      ...        ...                  ...                  ...                  ...                  ...                  ...                  ...           ...    ...           ...\n",
       "168,133  725252480  -112.85003131101635  -10.964689355797598  1970-03-05 00:47:35  -9.089431977158117   -0.8831700683681305  -0.7931477772601211  0             0.0    2             s\n",
       "168,134  422842121  4.902779474933569    60.5131208024045     1976-10-11 02:20:05  2.1560387048143808   -1.1568993975767228  -1.0783496253500509  0             0.0    2             g\n",
       "168,135  498463225  -103.44501767274288  -83.69724238201772   1987-05-09 08:31:07  1.561557035793344    -1.969834312744223   -1.9259732350145522  1             0.0    2             s\n",
       "168,136  755237644  -78.37346861779069   -56.77304595750046   1988-05-12 15:02:08  1.6864113149311981   -2.4635335986334157  -2.375469776943925   0             0.0    2             g\n",
       "168,137  525183613  -84.3345014920588    -2.8482988156030884  1982-07-22 08:47:07  -20.493447365778845  -2.6780738167831037  -2.6568245054681916  7             0.0    2             g"
      ]
     },
     "execution_count": 21,
     "metadata": {},
     "output_type": "execute_result"
    }
   ],
   "source": [
    "from damast.core.metadata import DataCategory\n",
    "from damast.core.dataframe import AnnotatedDataFrame\n",
    "dataspec = {\n",
    "    \"annotations\": {\"comment\": \"This is a autogenerated test data set\"},\n",
    "    \"columns\": [\n",
    "        {\"name\": \"mmsi\", \"is_optional\": False, \"category\": DataCategory.STATIC,\n",
    "         \"value_range\":{\"MinMax\": {\"min\": MMSI.min_value, \"max\": MMSI.max_value}}},\n",
    "        {\"name\": \"lon\", \"is_optional\": False, \"unit\": \"deg\", \"category\": DataCategory.DYNAMIC},\n",
    "        {\"name\": \"lat\", \"is_optional\": False, \"unit\": \"deg\", \"category\": DataCategory.DYNAMIC},\n",
    "        {\"name\": \"date_time_utc\", \"is_optional\": False, \"category\": DataCategory.DYNAMIC},\n",
    "        {\"name\": \"sog\", \"is_optional\": False, \"category\": DataCategory.DYNAMIC},\n",
    "        {\"name\": \"cog\", \"is_optional\": False, \"category\": DataCategory.DYNAMIC},\n",
    "        {\"name\": \"true_heading\", \"is_optional\": False, \"category\": DataCategory.DYNAMIC},\n",
    "        {\"name\": \"nav_status\", \"is_optional\": False, \"category\": DataCategory.DYNAMIC},\n",
    "        {\"name\": \"rot\", \"is_optional\": False, \"category\": DataCategory.DYNAMIC},\n",
    "        {\"name\": \"message_nr\", \"is_optional\": False, \"category\": DataCategory.DYNAMIC},\n",
    "        {\"name\": \"source\", \"is_optional\": False, \"category\": DataCategory.DYNAMIC},\n",
    "    ]\n",
    "}\n",
    "metadata = MetaData.from_dict(dataspec)\n",
    "data = generator.AISTestData(number_of_trajectories=1000, min_length=25, max_length=300)\n",
    "adf = AnnotatedDataFrame(data.dataframe, metadata, validation_mode=ValidationMode.UPDATE_DATA)\n",
    "adf"
   ]
  },
  {
   "attachments": {},
   "cell_type": "markdown",
   "metadata": {},
   "source": []
  },
  {
   "attachments": {},
   "cell_type": "markdown",
   "metadata": {},
   "source": [
    "## Data-processing\n",
    "Say we want to repeat this process on any data-set we read in. Then, we should create a `damast.core.dataprocessing.DataProcessingPipeline`.\n",
    "A pipeline consists of pipeline-elements, that is a set of transformations on the original dataset.\n",
    "We start by creating a Pipeline-element that drops all rows missing an `\"mmsi\"` entry."
   ]
  },
  {
   "cell_type": "code",
   "execution_count": 27,
   "metadata": {},
   "outputs": [
    {
     "ename": "ImportError",
     "evalue": "cannot import name 'DropMissing' from 'damast.data_handling.transformers' (/home/dokken/Documents/src/TSAR/damast/src/damast/data_handling/transformers/__init__.py)",
     "output_type": "error",
     "traceback": [
      "\u001b[0;31m---------------------------------------------------------------------------\u001b[0m",
      "\u001b[0;31mImportError\u001b[0m                               Traceback (most recent call last)",
      "\u001b[1;32m/home/dokken/Documents/src/TSAR/damast/docs/usage.ipynb Cell 15\u001b[0m in \u001b[0;36m1\n\u001b[0;32m----> <a href='vscode-notebook-cell:/home/dokken/Documents/src/TSAR/damast/docs/usage.ipynb#X45sZmlsZQ%3D%3D?line=0'>1</a>\u001b[0m \u001b[39mfrom\u001b[39;00m \u001b[39mdamast\u001b[39;00m\u001b[39m.\u001b[39;00m\u001b[39mdata_handling\u001b[39;00m\u001b[39m.\u001b[39;00m\u001b[39mtransformers\u001b[39;00m \u001b[39mimport\u001b[39;00m DropMissing\n\u001b[1;32m      <a href='vscode-notebook-cell:/home/dokken/Documents/src/TSAR/damast/docs/usage.ipynb#X45sZmlsZQ%3D%3D?line=1'>2</a>\u001b[0m \u001b[39mfrom\u001b[39;00m \u001b[39mdamast\u001b[39;00m\u001b[39m.\u001b[39;00m\u001b[39mcore\u001b[39;00m\u001b[39m.\u001b[39;00m\u001b[39mdataprocessing\u001b[39;00m \u001b[39mimport\u001b[39;00m DataProcessingPipeline\n\u001b[1;32m      <a href='vscode-notebook-cell:/home/dokken/Documents/src/TSAR/damast/docs/usage.ipynb#X45sZmlsZQ%3D%3D?line=2'>3</a>\u001b[0m pipeline \u001b[39m=\u001b[39m DataProcessingPipeline(\u001b[39m\"\u001b[39m\u001b[39mRemove missing MMSI columns\u001b[39m\u001b[39m\"\u001b[39m, \u001b[39m\"\u001b[39m\u001b[39m./output_dir\u001b[39m\u001b[39m\"\u001b[39m)\n",
      "\u001b[0;31mImportError\u001b[0m: cannot import name 'DropMissing' from 'damast.data_handling.transformers' (/home/dokken/Documents/src/TSAR/damast/src/damast/data_handling/transformers/__init__.py)"
     ]
    }
   ],
   "source": [
    "from damast.data_handling.transformers.filters import DropMissing\n",
    "from damast.core.dataprocessing import DataProcessingPipeline\n",
    "pipeline = DataProcessingPipeline(\"Remove missing MMSI columns\", \"./output_dir\")\n",
    "pipeline.add(\"Remove MMSI column\", DropMissing(), name_mappings={\"x\": \"mmsi\"})\n",
    "\n",
    "transformed_adf = pipeline.transform(adf)\n",
    "transformed_adf"
   ]
  },
  {
   "cell_type": "markdown",
   "metadata": {},
   "source": []
  }
 ],
 "metadata": {
  "kernelspec": {
   "display_name": "damast-test-env",
   "language": "python",
   "name": "python3"
  },
  "language_info": {
   "codemirror_mode": {
    "name": "ipython",
    "version": 3
   },
   "file_extension": ".py",
   "mimetype": "text/x-python",
   "name": "python",
   "nbconvert_exporter": "python",
   "pygments_lexer": "ipython3",
   "version": "3.10.9"
  },
  "orig_nbformat": 4
 },
 "nbformat": 4,
 "nbformat_minor": 2
}
